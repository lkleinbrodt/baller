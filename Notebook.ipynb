{
 "cells": [
  {
   "cell_type": "code",
   "execution_count": 2,
   "metadata": {},
   "outputs": [],
   "source": [
    "import pandas as pd\n",
    "import numpy as np\n",
    "from config import Config\n",
    "from sklearn.preprocessing import StandardScaler\n",
    "cfg = Config()"
   ]
  },
  {
   "cell_type": "code",
   "execution_count": 25,
   "metadata": {},
   "outputs": [],
   "source": [
    "players = pd.read_csv(cfg.data_dir/'players.csv')"
   ]
  },
  {
   "cell_type": "code",
   "execution_count": null,
   "metadata": {},
   "outputs": [],
   "source": [
    "players = players[players.columns[players.isna().mean() != 1]]\n",
    "players = players[players.columns[players.nunique() > 1]]\n",
    "\n",
    "def parse_height(height):\n",
    "    feet, inches = height.split('-')\n",
    "    return int(feet)*12+int(inches)\n",
    "\n",
    "players['height'] = players['height'].apply(parse_height)\n",
    "\n",
    "#in future, should pick out those stats that are NaN bercause they werent tracked\n",
    "players.fillna(0)\n"
   ]
  },
  {
   "cell_type": "code",
   "execution_count": 26,
   "metadata": {},
   "outputs": [],
   "source": []
  },
  {
   "cell_type": "code",
   "execution_count": 31,
   "metadata": {},
   "outputs": [
    {
     "data": {
      "text/plain": [
       "player        4847\n",
       "year_min        75\n",
       "year_max        75\n",
       "height          28\n",
       "weight         147\n",
       "birth_date    4490\n",
       "colleges       774\n",
       "season           1\n",
       "lg_id            4\n",
       "g             1020\n",
       "gs             658\n",
       "mp_per_g       378\n",
       "fg_per_g       103\n",
       "fga_per_g      201\n",
       "fg_pct         447\n",
       "fg3_per_g       33\n",
       "fg3a_per_g      78\n",
       "fg3_pct        355\n",
       "fg2_per_g       93\n",
       "fg2a_per_g     180\n",
       "fg2_pct        377\n",
       "efg_pct        389\n",
       "ft_per_g        75\n",
       "fta_per_g       92\n",
       "ft_pct         491\n",
       "orb_per_g       48\n",
       "drb_per_g       92\n",
       "trb_per_g      135\n",
       "ast_per_g       89\n",
       "stl_per_g       27\n",
       "blk_per_g       33\n",
       "tov_per_g       44\n",
       "pf_per_g        44\n",
       "pts_per_g      241\n",
       "dtype: int64"
      ]
     },
     "execution_count": 31,
     "metadata": {},
     "output_type": "execute_result"
    }
   ],
   "source": []
  },
  {
   "cell_type": "code",
   "execution_count": 18,
   "metadata": {},
   "outputs": [
    {
     "data": {
      "text/plain": [
       "Index(['player', 'year_min', 'year_max', 'height', 'weight', 'birth_date',\n",
       "       'colleges', 'season', 'lg_id', 'g', 'gs', 'mp_per_g', 'fg_per_g',\n",
       "       'fga_per_g', 'fg_pct', 'fg3_per_g', 'fg3a_per_g', 'fg3_pct',\n",
       "       'fg2_per_g', 'fg2a_per_g', 'fg2_pct', 'efg_pct', 'ft_per_g',\n",
       "       'fta_per_g', 'ft_pct', 'orb_per_g', 'drb_per_g', 'trb_per_g',\n",
       "       'ast_per_g', 'stl_per_g', 'blk_per_g', 'tov_per_g', 'pf_per_g',\n",
       "       'pts_per_g'],\n",
       "      dtype='object')"
      ]
     },
     "execution_count": 18,
     "metadata": {},
     "output_type": "execute_result"
    }
   ],
   "source": []
  },
  {
   "cell_type": "code",
   "execution_count": null,
   "metadata": {},
   "outputs": [],
   "source": []
  }
 ],
 "metadata": {
  "interpreter": {
   "hash": "aa9f7663bcfd39eee79fe62eec76115e1dfde6b9af41aa17bce2387bbe4a6414"
  },
  "kernelspec": {
   "display_name": "Python 3.7.10 64-bit ('baller': conda)",
   "name": "python3"
  },
  "language_info": {
   "codemirror_mode": {
    "name": "ipython",
    "version": 3
   },
   "file_extension": ".py",
   "mimetype": "text/x-python",
   "name": "python",
   "nbconvert_exporter": "python",
   "pygments_lexer": "ipython3",
   "version": "3.7.10"
  },
  "orig_nbformat": 4
 },
 "nbformat": 4,
 "nbformat_minor": 2
}